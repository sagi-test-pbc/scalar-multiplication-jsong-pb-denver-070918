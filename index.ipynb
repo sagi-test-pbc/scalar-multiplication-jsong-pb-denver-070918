{
 "cells": [
  {
   "cell_type": "markdown",
   "metadata": {},
   "source": [
    "# Scalar multiplication for Elliptic Curves\n",
    "\n",
    "Because we can add a point to itself, we can introduce some new notation:\n",
    "\n",
    "`(170,142) + (170,142) = 2⋅(170,142)`\n",
    "\n",
    "Similarly, because we have associativity, we can actually add the point again:\n",
    "\n",
    "`2⋅(170,142) + (170,142) = 3⋅(170, 142)`\n",
    "\n",
    "We can actually do this as many times as we want. This is what we call Scalar Multiplication. That is, we have a _scalar_ number in front of the point. We can do this because we have defined point addition.\n",
    "\n",
    "What's interesting about scalar multiplication is that it's really hard to predict without actually calculating.\n",
    "\n",
    "This is because point addition is non-linear. That is, not easy to calculate. In fact, doing the scalar multiplication is more or less straightforward, but doing the opposite, scalar division, is not.\n",
    "\n",
    "This is called the Discrete Log problem and is the basis of Elliptic Curve Cryptography.\n",
    "\n",
    "The interesting thing about Scalar Multiplication is that at a certain number, we get to the point at infinity (remember, point at infinity is the additive identity or 0). If we imagine a point G and scalar multiply until we get the point at infinity, we end up with a set like this:\n",
    "\n",
    "{ G, 2G, 3G, 4G, ... nG }\n",
    "\n",
    "It turns out that this set is called a Group and because n is finite, we have a Finite Group. Groups are interesting mathematically because they behave a lot like addition:\n",
    "\n",
    "G+4G=5G or aG+bG=(a+b)G\n",
    "\n",
    "When we combine the fact that scalar multiplication is easy to go in one direction but hard in the other and the mathematical properties of a Group, we have exactly what we need for Elliptic Curve Cryptography.\n",
    "\n",
    "#### Why is this called the Discrete Log Problem?\n",
    "\n",
    "You may be wondering why the problem of scalar *multiplication* is referred to as the discrete *log* problem.\n",
    "\n",
    "We called the operation between the points \"addition\", but we could easily have called it a point \"operation\". Typically, a new operation that you define in math utilizes the dot operator (⋅). The dot operator is also used for multiplication, and it sometimes helps to think that way:\n",
    "\n",
    "$P~1~⋅P~2~=P~3~$\n",
    "\n",
    "When you do lots of multiplying, that's the same as exponentiation. Scalar multiplication when we called it \"point addition\" becomes scalar exponentiation:\n",
    "\n",
    "`P^7 = Q`\n",
    "\n",
    "The discrete log problem is really the ability to reverse this:\n",
    "\n",
    "$log~P~Q=7$\n",
    "\n",
    "The log equation on the left is not analytically calculatable. That is, there is no known formula that you can plug in to get the answer generally. This is all a bit confusing, but it's fair to say that we could call the problem the \"Discrete Point Division\" problem instead of Discrete Log."
   ]
  },
  {
   "cell_type": "code",
   "execution_count": null,
   "metadata": {},
   "outputs": [],
   "source": [
    "# Example where x1 != x2\n",
    "\n",
    "from ecc import FieldElement, Point\n",
    "\n",
    "prime = 137\n",
    "a = FieldElement(0, prime)\n",
    "b = FieldElement(7, prime)\n",
    "p = Point(FieldElement(73, prime), FieldElement(128, prime), a, b)\n",
    "\n",
    "print(p+p)"
   ]
  },
  {
   "cell_type": "markdown",
   "metadata": {},
   "source": [
    "### Try it\n",
    "\n",
    "#### Find the following scalar multiplications on the curve  \\\\( y^2 = x^3 + 7: F_{223} \\\\)\n",
    "```\n",
    "2*(192,105), 2*(143,98), 2*(47,71), 4*(47,71), 8*(47,71), 21*(47,71)\n",
    "```\n",
    "\n",
    "#### Hint: add the point to itself n times"
   ]
  },
  {
   "cell_type": "code",
   "execution_count": null,
   "metadata": {},
   "outputs": [],
   "source": [
    "from ecc import FieldElement, Point\n",
    "\n",
    "prime = 223\n",
    "a = FieldElement(0, prime)\n",
    "b = FieldElement(7, prime)\n",
    "\n",
    "multiplications = ((2, 192, 105), (2, 143, 98), (2, 47, 71), (4, 47, 71), (8, 47, 71), (21, 47, 71))\n",
    "\n",
    "# iterate over the multiplications\n",
    "for n, x_raw, y_raw in multiplications:\n",
    "    # Initialize points this way:\n",
    "     x = FieldElement(x_raw, prime)\n",
    "     y = FieldElement(y_raw, prime)\n",
    "     p = Point(x, y, a, b)\n",
    "     #start product at 0 (point at infinity)\n",
    "    #loop over n times (n is 2, 4, 8 or 21 in the above examples)\n",
    "    for n in \n",
    "     for i in range(n)\n",
    "        # add the point to the product\n",
    "    # print product"
   ]
  },
  {
   "cell_type": "markdown",
   "metadata": {},
   "source": [
    "### Scalar Multiplication Redux\n",
    "\n",
    "The key insight to set up Public Key Cryptography is the fact that scalar multiplication on Elliptic Curves is very hard to reverse. \n",
    "\n",
    "If we look closely at the numbers, there's no real discernible pattern to the scalar multiplication. The x-coordinates don't always increase or decrease and neither do the y-coordinates. About the only pattern in this set is that between 10 and 11, the x coordinates seem to be aligned (10 and 11 have the same x, as do 9 and 12, 8 and 13 and so on).\n",
    "\n",
    "Scalar Multiplication looks really random and that's what we're going to use for what we call an *assymetric* problem. An *assymetric* problem is one that's easy to calculate in one direction, but hard to reverse. For example, it's easy enough to calculate 12⋅(47,71). But if we were presented this:\n",
    "\n",
    "`s⋅(47,71)=(194,172)`\n",
    "\n",
    "Would you be able to solve for `s`?"
   ]
  }
 ],
 "metadata": {
  "kernelspec": {
   "display_name": "Python 3",
   "language": "python",
   "name": "python3"
  },
  "language_info": {
   "codemirror_mode": {
    "name": "ipython",
    "version": 3
   },
   "file_extension": ".py",
   "mimetype": "text/x-python",
   "name": "python",
   "nbconvert_exporter": "python",
   "pygments_lexer": "ipython3",
   "version": "3.6.4"
  }
 },
 "nbformat": 4,
 "nbformat_minor": 2
}
